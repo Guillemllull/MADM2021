{
 "cells": [
  {
   "cell_type": "markdown",
   "source": [
    "# Entorno Tecnológico\n",
    "\n",
    "\n",
    "\n",
    "## Python\n",
    "\n",
    "Python es un lenguaje de programación interpretado cuya filosofía hace hincapié en una sintaxis que favorezca un\n",
    "código legible.\n",
    "\n",
    "### Qué hace Python una herramienta tecnológica interesante?\n",
    "\n",
    "* Tiene una buena curva de aprendizaje.\n",
    "* Ofrece versatilidad: Tiene una vocación global.\n",
    "* Librerías y complementos.\n",
    "* Una gran comunidad.\n",
    "* Está de moda: [Data Science Jobs Report 2019](https://www.r-bloggers.com/data-science-jobs-report-2019-python-way-up-tensorflow-growing-rapidly-r-use-double-sas/), [Python for Data Science](https://datascience.berkeley.edu/blog/python-data-science/)"
   ],
   "metadata": {
    "collapsed": false
   }
  },
  {
   "cell_type": "code",
   "execution_count": null,
   "outputs": [],
   "source": [
    "import this"
   ],
   "metadata": {
    "collapsed": false,
    "pycharm": {
     "name": "#%%\n"
    }
   }
  },
  {
   "cell_type": "markdown",
   "source": [
    "## Ecosistema de python para el análisis de datos\n",
    "\n",
    "El lenguaje de programación Python se organiza de la siguiente manera:\n",
    "* Un **núcleo** que contiene la base del lenguaje.\n",
    "* Un **interprete** que transforma nuestro código fuente en programas ejecutables.\n",
    "* Un gran conjunto de **librerias** que añaden diferentes funcionalidades al núcleo.\n",
    "\n",
    "El entorno de librerias de Python para el análisis de datos puede resumirse en:\n",
    "<img src=\"img/intro/entorno.png\" />\n",
    "\n",
    "[fuente:anaconda](https://www.anaconda.com/distribution/)"
   ],
   "metadata": {
    "collapsed": false
   }
  },
  {
   "cell_type": "markdown",
   "source": [
    "Aquello que nosotros usaremos\n",
    "\n",
    "<img src=\"img/intro/entorno_real.png\" />\n",
    "\n",
    "De esta imagen cabe destacar:\n",
    "\n",
    "* Conda: Es un entorno de Python que permite la gestión de las distintas librerías.\n",
    "* Jupyter: El editor interactivo que usaremos para programar.\n",
    "* Sci-kit learn: Librería que nos permite realizar el proceso de aprendizaje automático.\n",
    "* Matplotlib: Librería para la visualización, permite crear distintos tipos de gráficos.\n",
    "* Numpy: Librería para el tratamiento de matrices y operaciones matemáticas. Aunque la usaremos mucho, la mayoría\n",
    "del tiempo será transparente a nosotros.\n",
    "* Scypy: Librería para el tratamiento de algoritmos de optimización, integración, resolución de ecuaciones... Rara\n",
    "vez será usada, aunque puede solventarnos algun problema.\n",
    "* Pandas: Librería de análisis de datos. Nosotros la usaremos como herramienta de carga de datos y de exploración\n",
    "inicial."
   ],
   "metadata": {
    "collapsed": false
   }
  },
  {
   "cell_type": "markdown",
   "source": [
    "### Anaconda\n",
    "<img src=\"img/intro/Anaconda_Logo.png\" />\n",
    "\n",
    "Anaconda es una distribución de Python sobre *Conda* que contiene todo lo necesario para programar en Python:\n",
    "* El núcleo.\n",
    "* Las librerías de código necesarias.\n",
    "* El entorno de programación.\n"
   ],
   "metadata": {
    "collapsed": false
   }
  },
  {
   "cell_type": "markdown",
   "source": [
    "Existen versiones para los sistemas operativos más usados actualmente: Windows, macOS y Linux.\n",
    "\n",
    "Una vez instalado en nuestro ordenador podremos empezar a programar sin la necesidad de instalar ningún software adicional.\n",
    "\n",
    "Actualmente coexisten 2 versiones de Python: 2.7 y 3.7, **nosotros usaremos la segunda**.\n",
    "\n",
    "\n",
    "[Infografia Anaconda](https://know.anaconda.com/rs/387-XNW-688/images/2019-SoDS-Infographic-Anaconda.pdf)\n",
    "\n",
    "[Descarga](https://www.anaconda.com/distribution/)\n",
    "\n",
    "\n",
    "### Google Colab\n",
    "\n",
    "Otra opción que existe consiste en usar el entorno de desarrollo que Google proporciona. Este entorno ya viene con\n",
    "el núcleo de Python y las librerías de desarrollo necesarias. El código se ejecuta en los propios servidores de\n",
    "la compañía y puede ser una alternativa para empezar con el lenguaje sin demasiadas complicaciones o cuando no se\n",
    "tienen los recursos hardware mínimos.\n",
    "\n",
    "[Enlace](https://colab.research.google.com)"
   ],
   "metadata": {
    "collapsed": false
   }
  }
 ],
 "metadata": {
  "kernelspec": {
   "display_name": "Python 3",
   "language": "python",
   "name": "python3"
  },
  "language_info": {
   "codemirror_mode": {
    "name": "ipython",
    "version": 2
   },
   "file_extension": ".py",
   "mimetype": "text/x-python",
   "name": "python",
   "nbconvert_exporter": "python",
   "pygments_lexer": "ipython2",
   "version": "2.7.6"
  }
 },
 "nbformat": 4,
 "nbformat_minor": 0
}