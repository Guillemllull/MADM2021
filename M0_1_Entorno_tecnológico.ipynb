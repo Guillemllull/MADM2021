#%% md

# Entorno Tecnológico



## Python

Python es un lenguaje de programación interpretado cuya filosofía hace hincapié en una sintaxis que favorezca un
código legible.

### Qué hace Python una herramienta tecnológica interesante?

* Tiene una buena curva de aprendizaje.
* Ofrece versatilidad: Tiene una vocación global.
* Librerías y complementos.
* Una gran comunidad.
* Está de moda: [Data Science Jobs Report 2019](https://www.r-bloggers.com/data-science-jobs-report-2019-python-way-up-tensorflow-growing-rapidly-r-use-double-sas/), [Python for Data Science](https://datascience.berkeley.edu/blog/python-data-science/)

#%%

import this

#%% md

## Ecosistema de python para el análisis de datos

El lenguaje de programación Python se organiza de la siguiente manera:
* Un **núcleo** que contiene la base del lenguaje.
* Un **interprete** que transforma nuestro código fuente en programas ejecutables.
* Un gran conjunto de **librerias** que añaden diferentes funcionalidades al núcleo.

El entorno de librerias de Python para el análisis de datos puede resumirse en:
<img src="img/intro/entorno.png" />

[fuente:anaconda](https://www.anaconda.com/distribution/)

#%% md

Aquello que nosotros usaremos

<img src="img/intro/entorno_real.png" />

De esta imagen cabe destacar:

* Conda: Es un entorno de Python que permite la gestión de las distintas librerías.
* Jupyter: El editor interactivo que usaremos para programar.
* Sci-kit learn: Librería que nos permite realizar el proceso de aprendizaje automático.
* Matplotlib: Librería para la visualización, permite crear distintos tipos de gráficos.
* Numpy: Librería para el tratamiento de matrices y operaciones matemáticas. Aunque la usaremos mucho, la mayoría
del tiempo será transparente a nosotros.
* Scypy: Librería para el tratamiento de algoritmos de optimización, integración, resolución de ecuaciones... Rara
vez será usada, aunque puede solventarnos algun problema.
* Pandas: Librería de análisis de datos. Nosotros la usaremos como herramienta de carga de datos y de exploración
inicial.

#%% md

### Anaconda
<img src="img/intro/Anaconda_Logo.png" />

Anaconda es una distribución de Python sobre *Conda* que contiene todo lo necesario para programar en Python:
* El núcleo.
* Las librerías de código necesarias.
* El entorno de programación.


#%% md

Existen versiones para los sistemas operativos más usados actualmente: Windows, macOS y Linux.

Una vez instalado en nuestro ordenador podremos empezar a programar sin la necesidad de instalar ningún software adicional.

Actualmente coexisten 2 versiones de Python: 2.7 y 3.7, **nosotros usaremos la segunda**.


[Infografia Anaconda](https://know.anaconda.com/rs/387-XNW-688/images/2019-SoDS-Infographic-Anaconda.pdf)

[Descarga](https://www.anaconda.com/distribution/)


### Google Colab

Otra opción que existe consiste en usar el entorno de desarrollo que Google proporciona. Este entorno ya viene con
el núcleo de Python y las librerías de desarrollo necesarias. El código se ejecuta en los propios servidores de
la compañía y puede ser una alternativa para empezar con el lenguaje sin demasiadas complicaciones o cuando no se
tienen los recursos hardware mínimos.

[Enlace](https://colab.research.google.com)