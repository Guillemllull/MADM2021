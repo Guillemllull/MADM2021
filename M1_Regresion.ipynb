{
 "cells": [
  {
   "cell_type": "markdown",
   "metadata": {
    "collapsed": true,
    "pycharm": {
     "name": "#%% md\n"
    }
   },
   "source": [
    "\n",
    "# El proceso de aprendizaje automático\n",
    "\n",
    "El proceso de aplicar técnicas de aprendizaje automático consta de más pasos que  elegir y aplicar el clasificador o regresor.\n",
    "Es un proceso que consta de cinco partes:\n",
    "\n",
    "1. Tratamiento de los datos\n",
    "\n",
    "2. Selección de la / las métricas adecuadas.\n",
    "\n",
    "3. Selección de la técnica a aplicar.\n",
    "\n",
    "4. Ajuste de los hiperparámetros.\n",
    "\n",
    "5. Evaluación del modelo.\n",
    "\n",
    "## El proceso de regresión\n",
    "\n",
    "En primer lugar importamos las librerías necesarias para llevar a cabo el proceso"
   ]
  },
  {
   "cell_type": "code",
   "execution_count": null,
   "outputs": [],
   "source": [
    "import matplotlib.pyplot as plt\n",
    "from sklearn.linear_model import LinearRegression\n",
    "from sklearn.datasets import make_regression"
   ],
   "metadata": {
    "collapsed": false,
    "pycharm": {
     "name": "#%%\n"
    }
   }
  },
  {
   "cell_type": "markdown",
   "source": [
    "Generamos un conjunto de datos sobre el cual trabajaremos. Este conjunt es artificial y solamente\n",
    "sirve para realizar ejemplos:"
   ],
   "metadata": {
    "collapsed": false,
    "pycharm": {
     "name": "#%% md\n"
    }
   }
  },
  {
   "cell_type": "code",
   "execution_count": null,
   "outputs": [],
   "source": [
    "X, y = make_regression(n_samples=200, n_features=1, n_informative=1, noise=0.0, random_state=33)"
   ],
   "metadata": {
    "collapsed": false,
    "pycharm": {
     "name": "#%%\n"
    }
   }
  },
  {
   "cell_type": "markdown",
   "source": [
    "Una vez que tenemos los datos, procedemos a crear un modelo. En este caso una regresión lineal, que no necesita\n",
    "ningún parámetro."
   ],
   "metadata": {
    "collapsed": false,
    "pycharm": {
     "name": "#%% md\n"
    }
   }
  },
  {
   "cell_type": "code",
   "execution_count": null,
   "outputs": [],
   "source": [
    "regr = LinearRegression()"
   ],
   "metadata": {
    "collapsed": false,
    "pycharm": {
     "name": "#%%\n"
    }
   }
  },
  {
   "cell_type": "markdown",
   "source": [
    "Entrenamos el modelo. El método `fit` necesita el conjunto de entrenamiento y las etiquetas o valores de regresión.\n",
    "Todos los modelos de `sci-kit` se entrenan llamando a esta función."
   ],
   "metadata": {
    "collapsed": false,
    "pycharm": {
     "name": "#%% md\n"
    }
   }
  },
  {
   "cell_type": "code",
   "execution_count": null,
   "outputs": [],
   "source": [
    "regr.fit(X, y)"
   ],
   "metadata": {
    "collapsed": false,
    "pycharm": {
     "name": "#%%\n"
    }
   }
  },
  {
   "cell_type": "markdown",
   "source": [
    "Ahora nos queda realizar las predicciones. Usaremos la función `predict` que necesita los valores a predecir y\n",
    "nos devolverá los valores de predicción:"
   ],
   "metadata": {
    "collapsed": false,
    "pycharm": {
     "name": "#%% md\n"
    }
   }
  },
  {
   "cell_type": "code",
   "execution_count": null,
   "outputs": [],
   "source": [
    "y_pred = regr.predict(X)"
   ],
   "metadata": {
    "collapsed": false,
    "pycharm": {
     "name": "#%%\n"
    }
   }
  },
  {
   "cell_type": "markdown",
   "source": [
    "Solamente nos queda mostrar los resultados del proceso de regresión."
   ],
   "metadata": {
    "collapsed": false,
    "pycharm": {
     "name": "#%% md\n"
    }
   }
  },
  {
   "cell_type": "code",
   "execution_count": null,
   "outputs": [],
   "source": [
    "plt.scatter(X, y, color=\"black\") # dibujamos la nube de puntos\n",
    "plt.axline(xy1=(X.min(), y_pred.min()), xy2=(X.max(), y_pred.max())) # dibujamos la recta de regresión\n",
    "\n",
    "#plt.xticks(())\n",
    "#plt.yticks(())\n",
    "\n",
    "plt.show() # Una vez que hemos dibujado el gráfico, lo mostramos por pantalla"
   ],
   "metadata": {
    "collapsed": false,
    "pycharm": {
     "name": "#%%\n"
    }
   }
  }
 ],
 "metadata": {
  "kernelspec": {
   "display_name": "Python 3",
   "language": "python",
   "name": "python3"
  },
  "language_info": {
   "codemirror_mode": {
    "name": "ipython",
    "version": 2
   },
   "file_extension": ".py",
   "mimetype": "text/x-python",
   "name": "python",
   "nbconvert_exporter": "python",
   "pygments_lexer": "ipython2",
   "version": "2.7.6"
  }
 },
 "nbformat": 4,
 "nbformat_minor": 0
}